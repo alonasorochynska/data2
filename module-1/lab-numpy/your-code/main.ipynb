{
 "cells": [
  {
   "cell_type": "code",
   "execution_count": 2,
   "metadata": {},
   "outputs": [],
   "source": [
    "#1. Import the NUMPY package under the name np.\n",
    "import numpy as np"
   ]
  },
  {
   "cell_type": "code",
   "execution_count": 3,
   "metadata": {},
   "outputs": [
    {
     "name": "stdout",
     "output_type": "stream",
     "text": [
      "1.16.4\n",
      "mkl_info:\n",
      "    libraries = ['mkl_rt', 'pthread']\n",
      "    library_dirs = ['/home/alona/anaconda3/lib']\n",
      "    define_macros = [('SCIPY_MKL_H', None), ('HAVE_CBLAS', None)]\n",
      "    include_dirs = ['/home/alona/anaconda3/include']\n",
      "blas_mkl_info:\n",
      "    libraries = ['mkl_rt', 'pthread']\n",
      "    library_dirs = ['/home/alona/anaconda3/lib']\n",
      "    define_macros = [('SCIPY_MKL_H', None), ('HAVE_CBLAS', None)]\n",
      "    include_dirs = ['/home/alona/anaconda3/include']\n",
      "blas_opt_info:\n",
      "    libraries = ['mkl_rt', 'pthread']\n",
      "    library_dirs = ['/home/alona/anaconda3/lib']\n",
      "    define_macros = [('SCIPY_MKL_H', None), ('HAVE_CBLAS', None)]\n",
      "    include_dirs = ['/home/alona/anaconda3/include']\n",
      "lapack_mkl_info:\n",
      "    libraries = ['mkl_rt', 'pthread']\n",
      "    library_dirs = ['/home/alona/anaconda3/lib']\n",
      "    define_macros = [('SCIPY_MKL_H', None), ('HAVE_CBLAS', None)]\n",
      "    include_dirs = ['/home/alona/anaconda3/include']\n",
      "lapack_opt_info:\n",
      "    libraries = ['mkl_rt', 'pthread']\n",
      "    library_dirs = ['/home/alona/anaconda3/lib']\n",
      "    define_macros = [('SCIPY_MKL_H', None), ('HAVE_CBLAS', None)]\n",
      "    include_dirs = ['/home/alona/anaconda3/include']\n",
      "None\n"
     ]
    }
   ],
   "source": [
    "#2. Print the NUMPY version and the configuration.\n",
    "print(np.__version__)\n",
    "\n",
    "print(np.show_config())"
   ]
  },
  {
   "cell_type": "code",
   "execution_count": 4,
   "metadata": {},
   "outputs": [
    {
     "name": "stdout",
     "output_type": "stream",
     "text": [
      "[[[0.63604625 0.81875251 0.733337   0.53091384 0.43777384]\n",
      "  [0.49462542 0.95147902 0.45959746 0.7066071  0.96431515]\n",
      "  [0.08683356 0.713782   0.31767233 0.5013141  0.9333307 ]]\n",
      "\n",
      " [[0.98040879 0.31807951 0.12941284 0.02018735 0.89063815]\n",
      "  [0.87481968 0.29610711 0.5316447  0.63546952 0.55006683]\n",
      "  [0.12894758 0.30881331 0.03957985 0.49405887 0.5742017 ]]]\n",
      "*\n"
     ]
    }
   ],
   "source": [
    "#3. Generate a 2x3x5 3-dimensional array with random values. Assign the array to variable \"a\"\n",
    "# Challenge: there are at least three easy ways that use numpy to generate random arrays. How many ways can you find?\n",
    "a = np.random.random((2,3,5))\n",
    "print(a)\n",
    "print('*')\n",
    "#a1 = np.empty((2,3,5))\n",
    "#print(a1)\n",
    "#4. Print a."
   ]
  },
  {
   "cell_type": "code",
   "execution_count": 5,
   "metadata": {},
   "outputs": [
    {
     "name": "stdout",
     "output_type": "stream",
     "text": [
      "[[[1. 1. 1.]\n",
      "  [1. 1. 1.]]\n",
      "\n",
      " [[1. 1. 1.]\n",
      "  [1. 1. 1.]]\n",
      "\n",
      " [[1. 1. 1.]\n",
      "  [1. 1. 1.]]\n",
      "\n",
      " [[1. 1. 1.]\n",
      "  [1. 1. 1.]]\n",
      "\n",
      " [[1. 1. 1.]\n",
      "  [1. 1. 1.]]]\n"
     ]
    }
   ],
   "source": [
    "#5. Create a 5x2x3 3-dimensional array with all values equaling 1.\n",
    "#Assign the array to variable \"b\"\n",
    "b = np.ones((5,2,3))\n",
    "#6. Print b.\n",
    "print(b)"
   ]
  },
  {
   "cell_type": "code",
   "execution_count": 6,
   "metadata": {},
   "outputs": [
    {
     "name": "stdout",
     "output_type": "stream",
     "text": [
      "30\n",
      "30\n"
     ]
    }
   ],
   "source": [
    "#7. Do a and b have the same size? How do you prove that in Python code?\n",
    "print(a.size)\n",
    "print(b.size)"
   ]
  },
  {
   "cell_type": "code",
   "execution_count": 34,
   "metadata": {},
   "outputs": [],
   "source": [
    "#8. Are you able to add a and b? Why or why not?\n",
    "'''a and b have different lengths and widths, so its impossible to concatenate this arrays'''"
   ]
  },
  {
   "cell_type": "code",
   "execution_count": 7,
   "metadata": {},
   "outputs": [
    {
     "name": "stdout",
     "output_type": "stream",
     "text": [
      "[[[1. 1. 1. 1. 1.]\n",
      "  [1. 1. 1. 1. 1.]\n",
      "  [1. 1. 1. 1. 1.]]\n",
      "\n",
      " [[1. 1. 1. 1. 1.]\n",
      "  [1. 1. 1. 1. 1.]\n",
      "  [1. 1. 1. 1. 1.]]]\n"
     ]
    }
   ],
   "source": [
    "#9. Transpose b so that it has the same structure of a (i.e. become a 2x3x5 array). Assign the transposed array \n",
    "#to varialbe \"c\".\n",
    "c = b.reshape(2,3,5)\n",
    "print(c)"
   ]
  },
  {
   "cell_type": "code",
   "execution_count": 8,
   "metadata": {},
   "outputs": [
    {
     "name": "stdout",
     "output_type": "stream",
     "text": [
      "[[[0.63604625 0.81875251 0.733337   0.53091384 0.43777384]\n",
      "  [0.49462542 0.95147902 0.45959746 0.7066071  0.96431515]\n",
      "  [0.08683356 0.713782   0.31767233 0.5013141  0.9333307 ]]\n",
      "\n",
      " [[0.98040879 0.31807951 0.12941284 0.02018735 0.89063815]\n",
      "  [0.87481968 0.29610711 0.5316447  0.63546952 0.55006683]\n",
      "  [0.12894758 0.30881331 0.03957985 0.49405887 0.5742017 ]]\n",
      "\n",
      " [[1.         1.         1.         1.         1.        ]\n",
      "  [1.         1.         1.         1.         1.        ]\n",
      "  [1.         1.         1.         1.         1.        ]]\n",
      "\n",
      " [[1.         1.         1.         1.         1.        ]\n",
      "  [1.         1.         1.         1.         1.        ]\n",
      "  [1.         1.         1.         1.         1.        ]]]\n"
     ]
    }
   ],
   "source": [
    "#10. Try to add a and c. Now it should work. Assign the sum to varialbe \"d\". But why does it work now?\n",
    "d = np.vstack([a, c])\n",
    "print(d)\n",
    "#Now the dimensions of arrays are the same"
   ]
  },
  {
   "cell_type": "code",
   "execution_count": 9,
   "metadata": {},
   "outputs": [
    {
     "name": "stdout",
     "output_type": "stream",
     "text": [
      "Array a:\n",
      "[[[0.63604625 0.81875251 0.733337   0.53091384 0.43777384]\n",
      "  [0.49462542 0.95147902 0.45959746 0.7066071  0.96431515]\n",
      "  [0.08683356 0.713782   0.31767233 0.5013141  0.9333307 ]]\n",
      "\n",
      " [[0.98040879 0.31807951 0.12941284 0.02018735 0.89063815]\n",
      "  [0.87481968 0.29610711 0.5316447  0.63546952 0.55006683]\n",
      "  [0.12894758 0.30881331 0.03957985 0.49405887 0.5742017 ]]]\n",
      "Array d:\n",
      "[[[0.63604625 0.81875251 0.733337   0.53091384 0.43777384]\n",
      "  [0.49462542 0.95147902 0.45959746 0.7066071  0.96431515]\n",
      "  [0.08683356 0.713782   0.31767233 0.5013141  0.9333307 ]]\n",
      "\n",
      " [[0.98040879 0.31807951 0.12941284 0.02018735 0.89063815]\n",
      "  [0.87481968 0.29610711 0.5316447  0.63546952 0.55006683]\n",
      "  [0.12894758 0.30881331 0.03957985 0.49405887 0.5742017 ]]\n",
      "\n",
      " [[1.         1.         1.         1.         1.        ]\n",
      "  [1.         1.         1.         1.         1.        ]\n",
      "  [1.         1.         1.         1.         1.        ]]\n",
      "\n",
      " [[1.         1.         1.         1.         1.        ]\n",
      "  [1.         1.         1.         1.         1.        ]\n",
      "  [1.         1.         1.         1.         1.        ]]]\n"
     ]
    }
   ],
   "source": [
    "#11. Print a and d. Notice the difference and relation of the two array in terms of the values? Explain.\n",
    "print(\"Array a:\")\n",
    "print(a)\n",
    "print(\"Array d:\")\n",
    "print(d)\n",
    "#The relation is about number of rows in each array, array d contains array a.\n",
    "#The difference is about the size of arrays"
   ]
  },
  {
   "cell_type": "code",
   "execution_count": 10,
   "metadata": {},
   "outputs": [
    {
     "name": "stdout",
     "output_type": "stream",
     "text": [
      "A: [[[0.63604625 0.81875251 0.733337   0.53091384 0.43777384]\n",
      "  [0.49462542 0.95147902 0.45959746 0.7066071  0.96431515]\n",
      "  [0.08683356 0.713782   0.31767233 0.5013141  0.9333307 ]]\n",
      "\n",
      " [[0.98040879 0.31807951 0.12941284 0.02018735 0.89063815]\n",
      "  [0.87481968 0.29610711 0.5316447  0.63546952 0.55006683]\n",
      "  [0.12894758 0.30881331 0.03957985 0.49405887 0.5742017 ]]]\n",
      "C: [[[1. 1. 1. 1. 1.]\n",
      "  [1. 1. 1. 1. 1.]\n",
      "  [1. 1. 1. 1. 1.]]\n",
      "\n",
      " [[1. 1. 1. 1. 1.]\n",
      "  [1. 1. 1. 1. 1.]\n",
      "  [1. 1. 1. 1. 1.]]]\n",
      "E: [[[0.63604625 0.81875251 0.733337   0.53091384 0.43777384]\n",
      "  [0.49462542 0.95147902 0.45959746 0.7066071  0.96431515]\n",
      "  [0.08683356 0.713782   0.31767233 0.5013141  0.9333307 ]]\n",
      "\n",
      " [[0.98040879 0.31807951 0.12941284 0.02018735 0.89063815]\n",
      "  [0.87481968 0.29610711 0.5316447  0.63546952 0.55006683]\n",
      "  [0.12894758 0.30881331 0.03957985 0.49405887 0.5742017 ]]]\n"
     ]
    }
   ],
   "source": [
    "#12. Multiply a and c. Assign the result to e.\n",
    "e = np.multiply(a, c)\n",
    "print(\"A:\", a)\n",
    "print(\"C:\", c)\n",
    "print(\"E:\", e)"
   ]
  },
  {
   "cell_type": "code",
   "execution_count": 11,
   "metadata": {},
   "outputs": [
    {
     "name": "stdout",
     "output_type": "stream",
     "text": [
      "30\n",
      "30\n"
     ]
    }
   ],
   "source": [
    "#13. Does e equal to a? Why or why not?\n",
    "print(a.size)\n",
    "print(e.size)\n",
    "#They are equal. Because multiplication for 1 don't give any changes"
   ]
  },
  {
   "cell_type": "code",
   "execution_count": 12,
   "metadata": {},
   "outputs": [
    {
     "name": "stdout",
     "output_type": "stream",
     "text": [
      "d_max =  1.0\n",
      "d_min =  0.020187350709493845\n",
      "d_mean =  0.767646934573487\n"
     ]
    }
   ],
   "source": [
    "#14. Identify the max, min, and mean values in d. Assign those values to variables \"d_max\", \"d_min\", and \"d_mean\"\n",
    "#print(d)\n",
    "d_max = np.max(d)\n",
    "d_min = np.min(d)\n",
    "#d_mean = np.mean(d)\n",
    "print(\"d_max = \", d_max)\n",
    "print(\"d_min = \", d_min)\n",
    "summ = 0\n",
    "elements = 0\n",
    "for i in d:\n",
    "    for j in i:\n",
    "        for k in j:\n",
    "            summ += k\n",
    "            elements += 1\n",
    "d_mean = summ / elements\n",
    "print(\"d_mean = \", d_mean)"
   ]
  },
  {
   "cell_type": "code",
   "execution_count": 13,
   "metadata": {},
   "outputs": [
    {
     "name": "stdout",
     "output_type": "stream",
     "text": [
      "[[[0.63604625 0.81875251 0.733337   0.53091384 0.43777384]\n",
      "  [0.49462542 0.95147902 0.45959746 0.7066071  0.96431515]\n",
      "  [0.08683356 0.713782   0.31767233 0.5013141  0.9333307 ]]\n",
      "\n",
      " [[0.98040879 0.31807951 0.12941284 0.02018735 0.89063815]\n",
      "  [0.87481968 0.29610711 0.5316447  0.63546952 0.55006683]\n",
      "  [0.12894758 0.30881331 0.03957985 0.49405887 0.5742017 ]]]\n",
      "d [[[0.63604625 0.81875251 0.733337   0.53091384 0.43777384]\n",
      "  [0.49462542 0.95147902 0.45959746 0.7066071  0.96431515]\n",
      "  [0.08683356 0.713782   0.31767233 0.5013141  0.9333307 ]]\n",
      "\n",
      " [[0.98040879 0.31807951 0.12941284 0.02018735 0.89063815]\n",
      "  [0.87481968 0.29610711 0.5316447  0.63546952 0.55006683]\n",
      "  [0.12894758 0.30881331 0.03957985 0.49405887 0.5742017 ]]\n",
      "\n",
      " [[1.         1.         1.         1.         1.        ]\n",
      "  [1.         1.         1.         1.         1.        ]\n",
      "  [1.         1.         1.         1.         1.        ]]\n",
      "\n",
      " [[1.         1.         1.         1.         1.        ]\n",
      "  [1.         1.         1.         1.         1.        ]\n",
      "  [1.         1.         1.         1.         1.        ]]]\n"
     ]
    }
   ],
   "source": [
    "#15. Now we want to label the values in d. First create an empty array \"f\" with the same shape (i.e. 2x3x5) \n",
    "#as d using `np.empty`.\n",
    "f = np.empty((2,3,5))\n",
    "print(f)\n",
    "print(\"d\", d)\n"
   ]
  },
  {
   "cell_type": "code",
   "execution_count": 14,
   "metadata": {},
   "outputs": [
    {
     "data": {
      "text/plain": [
       "0.4946254195126817"
      ]
     },
     "execution_count": 14,
     "metadata": {},
     "output_type": "execute_result"
    }
   ],
   "source": [
    "d[0][1][0]"
   ]
  },
  {
   "cell_type": "code",
   "execution_count": 33,
   "metadata": {},
   "outputs": [
    {
     "name": "stdout",
     "output_type": "stream",
     "text": [
      "[[[0.63604625 0.81875251 0.733337   0.53091384 0.43777384]\n",
      "  [0.49462542 0.95147902 0.45959746 0.7066071  0.96431515]\n",
      "  [0.08683356 0.713782   0.31767233 0.5013141  0.9333307 ]]\n",
      "\n",
      " [[0.98040879 0.31807951 0.12941284 0.02018735 0.89063815]\n",
      "  [0.87481968 0.29610711 0.5316447  0.63546952 0.55006683]\n",
      "  [0.12894758 0.30881331 0.03957985 0.49405887 0.5742017 ]]\n",
      "\n",
      " [[1.         1.         1.         1.         1.        ]\n",
      "  [1.         1.         1.         1.         1.        ]\n",
      "  [1.         1.         1.         1.         1.        ]]\n",
      "\n",
      " [[1.         1.         1.         1.         1.        ]\n",
      "  [1.         1.         1.         1.         1.        ]\n",
      "  [1.         1.         1.         1.         1.        ]]]\n",
      "d_max =  1.0\n",
      "d_min =  0.020187350709493845\n",
      "d_mean =  0.767646934573487\n",
      "---\n",
      "\n",
      "Output array: \n",
      "\n",
      " [[[ 75  75  75  75  25]\n",
      "  [ 75  25  25  25  25]\n",
      "  [ 25  25  25  75  25]]\n",
      "\n",
      " [[ 75  75  25  75  75]\n",
      "  [ 75  75  25  75  75]\n",
      "  [ 25  25   0 100  75]]]\n"
     ]
    }
   ],
   "source": [
    "\"\"\"\n",
    "#16. Populate the values in f. For each value in d, if it's larger than d_min but smaller than d_mean, assign 25 to the \n",
    "corresponding value in f.\n",
    "If a value in d is larger than d_mean but smaller than d_max, assign 75 to the corresponding value in f.\n",
    "If a value equals to d_mean, assign 50 to the corresponding value in f.\n",
    "Assign 0 to the corresponding value(s) in f for d_min in d.\n",
    "Assign 100 to the corresponding value(s) in f for d_max in d.\n",
    "In the end, f should have only the following values: 0, 25, 50, 75, and 100.\n",
    "Note: you don't have to use Numpy in this question.\n",
    "\"\"\"\n",
    "print(d)\n",
    "print(\"d_max = \", d_max)\n",
    "print(\"d_min = \", d_min)\n",
    "print(\"d_mean = \", d_mean)\n",
    "print(\"---\")\n",
    "m_more_than_min = f > f_min \n",
    "m_mean = f >= f_mean\n",
    "m_more_than_mean = f > f_mean\n",
    "m_max = f == f_max\n",
    "                \n",
    "f_fin = 25 * m_more_than_min + 25 * m_mean + 25 * m_more_than_mean + 25 * m_max\n",
    "print(\"\\nOutput array: \\n\\n\", f_fin)"
   ]
  },
  {
   "cell_type": "code",
   "execution_count": 35,
   "metadata": {},
   "outputs": [
    {
     "name": "stdout",
     "output_type": "stream",
     "text": [
      "[[[0.63604625 0.81875251 0.733337   0.53091384 0.43777384]\n",
      "  [0.49462542 0.95147902 0.45959746 0.7066071  0.96431515]\n",
      "  [0.08683356 0.713782   0.31767233 0.5013141  0.9333307 ]]\n",
      "\n",
      " [[0.98040879 0.31807951 0.12941284 0.02018735 0.89063815]\n",
      "  [0.87481968 0.29610711 0.5316447  0.63546952 0.55006683]\n",
      "  [0.12894758 0.30881331 0.03957985 0.49405887 0.5742017 ]]\n",
      "\n",
      " [[1.         1.         1.         1.         1.        ]\n",
      "  [1.         1.         1.         1.         1.        ]\n",
      "  [1.         1.         1.         1.         1.        ]]\n",
      "\n",
      " [[1.         1.         1.         1.         1.        ]\n",
      "  [1.         1.         1.         1.         1.        ]\n",
      "  [1.         1.         1.         1.         1.        ]]]\n",
      "[[[ 75  75  75  75  25]\n",
      "  [ 75  25  25  25  25]\n",
      "  [ 25  25  25  75  25]]\n",
      "\n",
      " [[ 75  75  25  75  75]\n",
      "  [ 75  75  25  75  75]\n",
      "  [ 25  25   0 100  75]]]\n"
     ]
    }
   ],
   "source": [
    "\"\"\"\n",
    "#17. Print d and f. Do you have your expected f?\n",
    "For instance, if your d is:\n",
    "array([[[1.85836099, 1.67064465, 1.62576044, 1.40243961, 1.88454931],\n",
    "        [1.75354326, 1.69403643, 1.36729252, 1.61415071, 1.12104981],\n",
    "        [1.72201435, 1.1862918 , 1.87078449, 1.7726778 , 1.88180042]],\n",
    "\n",
    "       [[1.44747908, 1.31673383, 1.02000951, 1.52218947, 1.97066381],\n",
    "        [1.79129243, 1.74983003, 1.96028037, 1.85166831, 1.65450881],\n",
    "        [1.18068344, 1.9587381 , 1.00656599, 1.93402165, 1.73514584]]])\n",
    "\n",
    "Your f should be:\n",
    "array([[[ 75.,  75.,  75.,  25.,  75.],\n",
    "        [ 75.,  75.,  25.,  25.,  25.],\n",
    "        [ 75.,  25.,  75.,  75.,  75.]],\n",
    "\n",
    "       [[ 25.,  25.,  25.,  25., 100.],\n",
    "        [ 75.,  75.,  75.,  75.,  75.],\n",
    "        [ 25.,  75.,   0.,  75.,  75.]]])\n",
    "\"\"\"\n",
    "print(d)\n",
    "print(f_fin)"
   ]
  },
  {
   "cell_type": "code",
   "execution_count": 27,
   "metadata": {},
   "outputs": [
    {
     "name": "stdout",
     "output_type": "stream",
     "text": [
      "2\n"
     ]
    },
    {
     "data": {
      "text/plain": [
       "'\\n#18. Bonus question: instead of using numbers (i.e. 0, 25, 50, 75, and 100), how to use string values \\n(\"A\", \"B\", \"C\", \"D\", and \"E\") to label the array elements? You are expecting the result to be:\\narray([[[ \\'D\\',  \\'D\\',  \\'D\\',  \\'B\\',  \\'D\\'],\\n        [ \\'D\\',  \\'D\\',  \\'B\\',  \\'B\\',  \\'B\\'],\\n        [ \\'D\\',  \\'B\\',  \\'D\\',  \\'D\\',  \\'D\\']],\\n\\n       [[ \\'B\\',  \\'B\\',  \\'B\\',  \\'B\\',  \\'E\\'],\\n        [ \\'D\\',  \\'D\\',  \\'D\\',  \\'D\\',  \\'D\\'],\\n        [ \\'B\\',  \\'D\\',   \\'A\\',  \\'D\\', \\'D\\']]])\\nAgain, you don\\'t need Numpy in this question.\\n'"
      ]
     },
     "execution_count": 27,
     "metadata": {},
     "output_type": "execute_result"
    }
   ],
   "source": [
    "\"\"\"\n",
    "#18. Bonus question: instead of using numbers (i.e. 0, 25, 50, 75, and 100), how to use string values \n",
    "(\"A\", \"B\", \"C\", \"D\", and \"E\") to label the array elements? You are expecting the result to be:\n",
    "array([[[ 'D',  'D',  'D',  'B',  'D'],\n",
    "        [ 'D',  'D',  'B',  'B',  'B'],\n",
    "        [ 'D',  'B',  'D',  'D',  'D']],\n",
    "\n",
    "       [[ 'B',  'B',  'B',  'B',  'E'],\n",
    "        [ 'D',  'D',  'D',  'D',  'D'],\n",
    "        [ 'B',  'D',   'A',  'D', 'D']]])\n",
    "Again, you don't need Numpy in this question.\n",
    "\"\"\""
   ]
  },
  {
   "cell_type": "code",
   "execution_count": 40,
   "metadata": {},
   "outputs": [
    {
     "name": "stdout",
     "output_type": "stream",
     "text": [
      "[[1 1 1 1 1]\n",
      " [1 1 1 1 1]]\n"
     ]
    },
    {
     "data": {
      "text/plain": [
       "(2, 5)"
      ]
     },
     "execution_count": 40,
     "metadata": {},
     "output_type": "execute_result"
    }
   ],
   "source": [
    "import numpy as np\n",
    "\n",
    "np_arr = np.ones((2,5), dtype = int)\n",
    "print(np_arr)\n",
    "np_arr.size\n",
    "np_arr.shape"
   ]
  },
  {
   "cell_type": "code",
   "execution_count": null,
   "metadata": {},
   "outputs": [],
   "source": []
  }
 ],
 "metadata": {
  "kernelspec": {
   "display_name": "Python 3",
   "language": "python",
   "name": "python3"
  },
  "language_info": {
   "codemirror_mode": {
    "name": "ipython",
    "version": 3
   },
   "file_extension": ".py",
   "mimetype": "text/x-python",
   "name": "python",
   "nbconvert_exporter": "python",
   "pygments_lexer": "ipython3",
   "version": "3.7.3"
  }
 },
 "nbformat": 4,
 "nbformat_minor": 2
}
