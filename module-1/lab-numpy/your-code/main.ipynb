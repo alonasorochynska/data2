{
 "cells": [
  {
   "cell_type": "code",
   "execution_count": 2,
   "metadata": {},
   "outputs": [],
   "source": [
    "#1. Import the NUMPY package under the name np.\n",
    "import numpy as np"
   ]
  },
  {
   "cell_type": "code",
   "execution_count": 3,
   "metadata": {},
   "outputs": [
    {
     "name": "stdout",
     "output_type": "stream",
     "text": [
      "1.16.4\n",
      "mkl_info:\n",
      "    libraries = ['mkl_rt', 'pthread']\n",
      "    library_dirs = ['/home/alona/anaconda3/lib']\n",
      "    define_macros = [('SCIPY_MKL_H', None), ('HAVE_CBLAS', None)]\n",
      "    include_dirs = ['/home/alona/anaconda3/include']\n",
      "blas_mkl_info:\n",
      "    libraries = ['mkl_rt', 'pthread']\n",
      "    library_dirs = ['/home/alona/anaconda3/lib']\n",
      "    define_macros = [('SCIPY_MKL_H', None), ('HAVE_CBLAS', None)]\n",
      "    include_dirs = ['/home/alona/anaconda3/include']\n",
      "blas_opt_info:\n",
      "    libraries = ['mkl_rt', 'pthread']\n",
      "    library_dirs = ['/home/alona/anaconda3/lib']\n",
      "    define_macros = [('SCIPY_MKL_H', None), ('HAVE_CBLAS', None)]\n",
      "    include_dirs = ['/home/alona/anaconda3/include']\n",
      "lapack_mkl_info:\n",
      "    libraries = ['mkl_rt', 'pthread']\n",
      "    library_dirs = ['/home/alona/anaconda3/lib']\n",
      "    define_macros = [('SCIPY_MKL_H', None), ('HAVE_CBLAS', None)]\n",
      "    include_dirs = ['/home/alona/anaconda3/include']\n",
      "lapack_opt_info:\n",
      "    libraries = ['mkl_rt', 'pthread']\n",
      "    library_dirs = ['/home/alona/anaconda3/lib']\n",
      "    define_macros = [('SCIPY_MKL_H', None), ('HAVE_CBLAS', None)]\n",
      "    include_dirs = ['/home/alona/anaconda3/include']\n",
      "None\n"
     ]
    }
   ],
   "source": [
    "#2. Print the NUMPY version and the configuration.\n",
    "print(np.__version__)\n",
    "\n",
    "print(np.show_config())"
   ]
  },
  {
   "cell_type": "code",
   "execution_count": 4,
   "metadata": {},
   "outputs": [
    {
     "name": "stdout",
     "output_type": "stream",
     "text": [
      "[[[0.90735112 0.06906893 0.52326831 0.89010297 0.21629348]\n",
      "  [0.55417761 0.65771979 0.92211267 0.01439581 0.99345044]\n",
      "  [0.0110994  0.35580458 0.03507711 0.17828377 0.94397234]]\n",
      "\n",
      " [[0.88146072 0.18593624 0.58762193 0.5220502  0.71495168]\n",
      "  [0.85885897 0.12848929 0.15641506 0.08977376 0.62697659]\n",
      "  [0.95934642 0.87685881 0.32187633 0.82572291 0.76428359]]]\n",
      "*\n"
     ]
    }
   ],
   "source": [
    "#3. Generate a 2x3x5 3-dimensional array with random values. Assign the array to variable \"a\"\n",
    "# Challenge: there are at least three easy ways that use numpy to generate random arrays. How many ways can you find?\n",
    "a = np.random.random((2,3,5))\n",
    "print(a)\n",
    "print('*')\n",
    "#a1 = np.empty((2,3,5))\n",
    "#print(a1)\n",
    "#4. Print a."
   ]
  },
  {
   "cell_type": "code",
   "execution_count": 5,
   "metadata": {},
   "outputs": [
    {
     "name": "stdout",
     "output_type": "stream",
     "text": [
      "[[[1. 1. 1.]\n",
      "  [1. 1. 1.]]\n",
      "\n",
      " [[1. 1. 1.]\n",
      "  [1. 1. 1.]]\n",
      "\n",
      " [[1. 1. 1.]\n",
      "  [1. 1. 1.]]\n",
      "\n",
      " [[1. 1. 1.]\n",
      "  [1. 1. 1.]]\n",
      "\n",
      " [[1. 1. 1.]\n",
      "  [1. 1. 1.]]]\n"
     ]
    }
   ],
   "source": [
    "#5. Create a 5x2x3 3-dimensional array with all values equaling 1.\n",
    "#Assign the array to variable \"b\"\n",
    "b = np.ones((5,2,3))\n",
    "#6. Print b.\n",
    "print(b)"
   ]
  },
  {
   "cell_type": "code",
   "execution_count": 6,
   "metadata": {},
   "outputs": [
    {
     "name": "stdout",
     "output_type": "stream",
     "text": [
      "30\n",
      "30\n"
     ]
    }
   ],
   "source": [
    "#7. Do a and b have the same size? How do you prove that in Python code?\n",
    "print(a.size)\n",
    "print(b.size)"
   ]
  },
  {
   "cell_type": "code",
   "execution_count": 34,
   "metadata": {},
   "outputs": [],
   "source": [
    "#8. Are you able to add a and b? Why or why not?\n",
    "'''a and b have different lengths and widths, so its impossible to concatenate this arrays'''"
   ]
  },
  {
   "cell_type": "code",
   "execution_count": 7,
   "metadata": {},
   "outputs": [
    {
     "name": "stdout",
     "output_type": "stream",
     "text": [
      "[[[1. 1. 1. 1. 1.]\n",
      "  [1. 1. 1. 1. 1.]\n",
      "  [1. 1. 1. 1. 1.]]\n",
      "\n",
      " [[1. 1. 1. 1. 1.]\n",
      "  [1. 1. 1. 1. 1.]\n",
      "  [1. 1. 1. 1. 1.]]]\n"
     ]
    }
   ],
   "source": [
    "#9. Transpose b so that it has the same structure of a (i.e. become a 2x3x5 array). Assign the transposed array \n",
    "#to varialbe \"c\".\n",
    "c = b.reshape(2,3,5)\n",
    "print(c)"
   ]
  },
  {
   "cell_type": "code",
   "execution_count": 8,
   "metadata": {},
   "outputs": [
    {
     "name": "stdout",
     "output_type": "stream",
     "text": [
      "[[[0.90735112 0.06906893 0.52326831 0.89010297 0.21629348]\n",
      "  [0.55417761 0.65771979 0.92211267 0.01439581 0.99345044]\n",
      "  [0.0110994  0.35580458 0.03507711 0.17828377 0.94397234]]\n",
      "\n",
      " [[0.88146072 0.18593624 0.58762193 0.5220502  0.71495168]\n",
      "  [0.85885897 0.12848929 0.15641506 0.08977376 0.62697659]\n",
      "  [0.95934642 0.87685881 0.32187633 0.82572291 0.76428359]]\n",
      "\n",
      " [[1.         1.         1.         1.         1.        ]\n",
      "  [1.         1.         1.         1.         1.        ]\n",
      "  [1.         1.         1.         1.         1.        ]]\n",
      "\n",
      " [[1.         1.         1.         1.         1.        ]\n",
      "  [1.         1.         1.         1.         1.        ]\n",
      "  [1.         1.         1.         1.         1.        ]]]\n"
     ]
    }
   ],
   "source": [
    "#10. Try to add a and c. Now it should work. Assign the sum to varialbe \"d\". But why does it work now?\n",
    "d = np.vstack([a, c])\n",
    "print(d)\n",
    "#Now the dimensions of arrays are the same"
   ]
  },
  {
   "cell_type": "code",
   "execution_count": 9,
   "metadata": {},
   "outputs": [
    {
     "name": "stdout",
     "output_type": "stream",
     "text": [
      "Array a:\n",
      "[[[0.90735112 0.06906893 0.52326831 0.89010297 0.21629348]\n",
      "  [0.55417761 0.65771979 0.92211267 0.01439581 0.99345044]\n",
      "  [0.0110994  0.35580458 0.03507711 0.17828377 0.94397234]]\n",
      "\n",
      " [[0.88146072 0.18593624 0.58762193 0.5220502  0.71495168]\n",
      "  [0.85885897 0.12848929 0.15641506 0.08977376 0.62697659]\n",
      "  [0.95934642 0.87685881 0.32187633 0.82572291 0.76428359]]]\n",
      "Array d:\n",
      "[[[0.90735112 0.06906893 0.52326831 0.89010297 0.21629348]\n",
      "  [0.55417761 0.65771979 0.92211267 0.01439581 0.99345044]\n",
      "  [0.0110994  0.35580458 0.03507711 0.17828377 0.94397234]]\n",
      "\n",
      " [[0.88146072 0.18593624 0.58762193 0.5220502  0.71495168]\n",
      "  [0.85885897 0.12848929 0.15641506 0.08977376 0.62697659]\n",
      "  [0.95934642 0.87685881 0.32187633 0.82572291 0.76428359]]\n",
      "\n",
      " [[1.         1.         1.         1.         1.        ]\n",
      "  [1.         1.         1.         1.         1.        ]\n",
      "  [1.         1.         1.         1.         1.        ]]\n",
      "\n",
      " [[1.         1.         1.         1.         1.        ]\n",
      "  [1.         1.         1.         1.         1.        ]\n",
      "  [1.         1.         1.         1.         1.        ]]]\n"
     ]
    }
   ],
   "source": [
    "#11. Print a and d. Notice the difference and relation of the two array in terms of the values? Explain.\n",
    "print(\"Array a:\")\n",
    "print(a)\n",
    "print(\"Array d:\")\n",
    "print(d)\n",
    "#The relation is about number of rows in each array, array d contains array a.\n",
    "#The difference is about the size of arrays"
   ]
  },
  {
   "cell_type": "code",
   "execution_count": 10,
   "metadata": {},
   "outputs": [
    {
     "name": "stdout",
     "output_type": "stream",
     "text": [
      "A: [[[0.90735112 0.06906893 0.52326831 0.89010297 0.21629348]\n",
      "  [0.55417761 0.65771979 0.92211267 0.01439581 0.99345044]\n",
      "  [0.0110994  0.35580458 0.03507711 0.17828377 0.94397234]]\n",
      "\n",
      " [[0.88146072 0.18593624 0.58762193 0.5220502  0.71495168]\n",
      "  [0.85885897 0.12848929 0.15641506 0.08977376 0.62697659]\n",
      "  [0.95934642 0.87685881 0.32187633 0.82572291 0.76428359]]]\n",
      "C: [[[1. 1. 1. 1. 1.]\n",
      "  [1. 1. 1. 1. 1.]\n",
      "  [1. 1. 1. 1. 1.]]\n",
      "\n",
      " [[1. 1. 1. 1. 1.]\n",
      "  [1. 1. 1. 1. 1.]\n",
      "  [1. 1. 1. 1. 1.]]]\n",
      "E: [[[0.90735112 0.06906893 0.52326831 0.89010297 0.21629348]\n",
      "  [0.55417761 0.65771979 0.92211267 0.01439581 0.99345044]\n",
      "  [0.0110994  0.35580458 0.03507711 0.17828377 0.94397234]]\n",
      "\n",
      " [[0.88146072 0.18593624 0.58762193 0.5220502  0.71495168]\n",
      "  [0.85885897 0.12848929 0.15641506 0.08977376 0.62697659]\n",
      "  [0.95934642 0.87685881 0.32187633 0.82572291 0.76428359]]]\n"
     ]
    }
   ],
   "source": [
    "#12. Multiply a and c. Assign the result to e.\n",
    "e = np.multiply(a, c)\n",
    "print(\"A:\", a)\n",
    "print(\"C:\", c)\n",
    "print(\"E:\", e)"
   ]
  },
  {
   "cell_type": "code",
   "execution_count": 11,
   "metadata": {},
   "outputs": [
    {
     "name": "stdout",
     "output_type": "stream",
     "text": [
      "30\n",
      "30\n"
     ]
    }
   ],
   "source": [
    "#13. Does e equal to a? Why or why not?\n",
    "print(a.size)\n",
    "print(e.size)\n",
    "#They are equal. Because multiplication for 1 don't give any changes"
   ]
  },
  {
   "cell_type": "code",
   "execution_count": 12,
   "metadata": {},
   "outputs": [
    {
     "name": "stdout",
     "output_type": "stream",
     "text": [
      "d_max =  1.0\n",
      "d_min =  0.011099403153648213\n",
      "d_mean =  0.7628800135631654\n"
     ]
    }
   ],
   "source": [
    "#14. Identify the max, min, and mean values in d. Assign those values to variables \"d_max\", \"d_min\", and \"d_mean\"\n",
    "#print(d)\n",
    "d_max = np.max(d)\n",
    "d_min = np.min(d)\n",
    "print(\"d_max = \", d_max)\n",
    "print(\"d_min = \", d_min)\n",
    "summ = 0\n",
    "elements = 0\n",
    "for i in d:\n",
    "    for j in i:\n",
    "        for k in j:\n",
    "            summ += k\n",
    "            elements += 1\n",
    "d_mean = summ / elements\n",
    "print(\"d_mean = \", d_mean)"
   ]
  },
  {
   "cell_type": "code",
   "execution_count": 33,
   "metadata": {},
   "outputs": [
    {
     "name": "stdout",
     "output_type": "stream",
     "text": [
      "[[[9.07351119e-01 2.50000000e+01 2.50000000e+01 8.90102966e-01\n",
      "   2.50000000e+01]\n",
      "  [2.50000000e+01 2.50000000e+01 9.22112669e-01 2.50000000e+01\n",
      "   9.93450439e-01]\n",
      "  [1.10994032e-02 2.50000000e+01 2.50000000e+01 2.50000000e+01\n",
      "   9.43972343e-01]]\n",
      "\n",
      " [[8.81460722e-01 2.50000000e+01 2.50000000e+01 2.50000000e+01\n",
      "   2.50000000e+01]\n",
      "  [8.58858971e-01 2.50000000e+01 2.50000000e+01 2.50000000e+01\n",
      "   2.50000000e+01]\n",
      "  [9.59346422e-01 8.76858807e-01 2.50000000e+01 8.25722913e-01\n",
      "   7.64283587e-01]]]\n",
      "d [[[0.90735112 0.06906893 0.52326831 0.89010297 0.21629348]\n",
      "  [0.55417761 0.65771979 0.92211267 0.01439581 0.99345044]\n",
      "  [0.0110994  0.35580458 0.03507711 0.17828377 0.94397234]]\n",
      "\n",
      " [[0.88146072 0.18593624 0.58762193 0.5220502  0.71495168]\n",
      "  [0.85885897 0.12848929 0.15641506 0.08977376 0.62697659]\n",
      "  [0.95934642 0.87685881 0.32187633 0.82572291 0.76428359]]\n",
      "\n",
      " [[1.         1.         1.         1.         1.        ]\n",
      "  [1.         1.         1.         1.         1.        ]\n",
      "  [1.         1.         1.         1.         1.        ]]\n",
      "\n",
      " [[1.         1.         1.         1.         1.        ]\n",
      "  [1.         1.         1.         1.         1.        ]\n",
      "  [1.         1.         1.         1.         1.        ]]]\n"
     ]
    }
   ],
   "source": [
    "#15. Now we want to label the values in d. First create an empty array \"f\" with the same shape (i.e. 2x3x5) \n",
    "#as d using `np.empty`.\n",
    "f = np.empty((2,3,5))\n",
    "print(f)\n",
    "print(\"d\", d)\n"
   ]
  },
  {
   "cell_type": "code",
   "execution_count": 14,
   "metadata": {},
   "outputs": [
    {
     "data": {
      "text/plain": [
       "0.5541776078527229"
      ]
     },
     "execution_count": 14,
     "metadata": {},
     "output_type": "execute_result"
    }
   ],
   "source": [
    "d[0][1][0]"
   ]
  },
  {
   "cell_type": "code",
   "execution_count": 34,
   "metadata": {},
   "outputs": [
    {
     "name": "stdout",
     "output_type": "stream",
     "text": [
      "[[[0.90735112 0.06906893 0.52326831 0.89010297 0.21629348]\n",
      "  [0.55417761 0.65771979 0.92211267 0.01439581 0.99345044]\n",
      "  [0.0110994  0.35580458 0.03507711 0.17828377 0.94397234]]\n",
      "\n",
      " [[0.88146072 0.18593624 0.58762193 0.5220502  0.71495168]\n",
      "  [0.85885897 0.12848929 0.15641506 0.08977376 0.62697659]\n",
      "  [0.95934642 0.87685881 0.32187633 0.82572291 0.76428359]]\n",
      "\n",
      " [[1.         1.         1.         1.         1.        ]\n",
      "  [1.         1.         1.         1.         1.        ]\n",
      "  [1.         1.         1.         1.         1.        ]]\n",
      "\n",
      " [[1.         1.         1.         1.         1.        ]\n",
      "  [1.         1.         1.         1.         1.        ]\n",
      "  [1.         1.         1.         1.         1.        ]]]\n",
      "---\n",
      "25.0\n",
      "25.0\n",
      "25.0\n",
      "25.0\n",
      "25.0\n",
      "25.0\n",
      "25.0\n",
      "25.0\n",
      "25.0\n",
      "25.0\n",
      "25.0\n",
      "25.0\n",
      "25.0\n",
      "25.0\n",
      "25.0\n",
      "25.0\n",
      "25.0\n",
      "25.0\n",
      "[[[9.07351119e-01 2.50000000e+01 2.50000000e+01 8.90102966e-01\n",
      "   2.50000000e+01]\n",
      "  [2.50000000e+01 2.50000000e+01 9.22112669e-01 2.50000000e+01\n",
      "   9.93450439e-01]\n",
      "  [1.10994032e-02 2.50000000e+01 2.50000000e+01 2.50000000e+01\n",
      "   9.43972343e-01]]\n",
      "\n",
      " [[8.81460722e-01 2.50000000e+01 2.50000000e+01 2.50000000e+01\n",
      "   2.50000000e+01]\n",
      "  [8.58858971e-01 2.50000000e+01 2.50000000e+01 2.50000000e+01\n",
      "   2.50000000e+01]\n",
      "  [9.59346422e-01 8.76858807e-01 2.50000000e+01 8.25722913e-01\n",
      "   7.64283587e-01]]]\n"
     ]
    }
   ],
   "source": [
    "\"\"\"\n",
    "#16. Populate the values in f. For each value in d, if it's larger than d_min but smaller than d_mean, assign 25 to the \n",
    "corresponding value in f.\n",
    "If a value in d is larger than d_mean but smaller than d_max, assign 75 to the corresponding value in f.\n",
    "If a value equals to d_mean, assign 50 to the corresponding value in f.\n",
    "Assign 0 to the corresponding value(s) in f for d_min in d.\n",
    "Assign 100 to the corresponding value(s) in f for d_max in d.\n",
    "In the end, f should have only the following values: 0, 25, 50, 75, and 100.\n",
    "Note: you don't have to use Numpy in this question.\n",
    "\"\"\"\n",
    "print(d)\n",
    "\n",
    "print(\"---\")\n",
    "for i in range(2):\n",
    "    #print(d[i])\n",
    "    for j in range(3):\n",
    "        for k in range(5):\n",
    "            if d[i][j][k] > d_min and d[i][j][k] < d_mean:\n",
    "                print(f[i][j][k])# = 25\n",
    "print(f)\n",
    "#:(((((((((((((((("
   ]
  },
  {
   "cell_type": "code",
   "execution_count": 27,
   "metadata": {},
   "outputs": [
    {
     "name": "stdout",
     "output_type": "stream",
     "text": [
      "2\n"
     ]
    },
    {
     "data": {
      "text/plain": [
       "'\\n#18. Bonus question: instead of using numbers (i.e. 0, 25, 50, 75, and 100), how to use string values \\n(\"A\", \"B\", \"C\", \"D\", and \"E\") to label the array elements? You are expecting the result to be:\\narray([[[ \\'D\\',  \\'D\\',  \\'D\\',  \\'B\\',  \\'D\\'],\\n        [ \\'D\\',  \\'D\\',  \\'B\\',  \\'B\\',  \\'B\\'],\\n        [ \\'D\\',  \\'B\\',  \\'D\\',  \\'D\\',  \\'D\\']],\\n\\n       [[ \\'B\\',  \\'B\\',  \\'B\\',  \\'B\\',  \\'E\\'],\\n        [ \\'D\\',  \\'D\\',  \\'D\\',  \\'D\\',  \\'D\\'],\\n        [ \\'B\\',  \\'D\\',   \\'A\\',  \\'D\\', \\'D\\']]])\\nAgain, you don\\'t need Numpy in this question.\\n'"
      ]
     },
     "execution_count": 27,
     "metadata": {},
     "output_type": "execute_result"
    }
   ],
   "source": [
    "\"\"\"\n",
    "#17. Print d and f. Do you have your expected f?\n",
    "For instance, if your d is:\n",
    "array([[[1.85836099, 1.67064465, 1.62576044, 1.40243961, 1.88454931],\n",
    "        [1.75354326, 1.69403643, 1.36729252, 1.61415071, 1.12104981],\n",
    "        [1.72201435, 1.1862918 , 1.87078449, 1.7726778 , 1.88180042]],\n",
    "\n",
    "       [[1.44747908, 1.31673383, 1.02000951, 1.52218947, 1.97066381],\n",
    "        [1.79129243, 1.74983003, 1.96028037, 1.85166831, 1.65450881],\n",
    "        [1.18068344, 1.9587381 , 1.00656599, 1.93402165, 1.73514584]]])\n",
    "\n",
    "Your f should be:\n",
    "array([[[ 75.,  75.,  75.,  25.,  75.],\n",
    "        [ 75.,  75.,  25.,  25.,  25.],\n",
    "        [ 75.,  25.,  75.,  75.,  75.]],\n",
    "\n",
    "       [[ 25.,  25.,  25.,  25., 100.],\n",
    "        [ 75.,  75.,  75.,  75.,  75.],\n",
    "        [ 25.,  75.,   0.,  75.,  75.]]])\n",
    "\"\"\"\n",
    "\n",
    "\n",
    "\"\"\"\n",
    "#18. Bonus question: instead of using numbers (i.e. 0, 25, 50, 75, and 100), how to use string values \n",
    "(\"A\", \"B\", \"C\", \"D\", and \"E\") to label the array elements? You are expecting the result to be:\n",
    "array([[[ 'D',  'D',  'D',  'B',  'D'],\n",
    "        [ 'D',  'D',  'B',  'B',  'B'],\n",
    "        [ 'D',  'B',  'D',  'D',  'D']],\n",
    "\n",
    "       [[ 'B',  'B',  'B',  'B',  'E'],\n",
    "        [ 'D',  'D',  'D',  'D',  'D'],\n",
    "        [ 'B',  'D',   'A',  'D', 'D']]])\n",
    "Again, you don't need Numpy in this question.\n",
    "\"\"\""
   ]
  },
  {
   "cell_type": "code",
   "execution_count": 54,
   "metadata": {},
   "outputs": [
    {
     "name": "stdout",
     "output_type": "stream",
     "text": [
      "3\n",
      "[0.5, 0.6, 0.7]\n",
      "0\n",
      "111\n",
      "1\n",
      "222\n",
      "2\n",
      "333\n",
      "[5, 5, 5]\n"
     ]
    }
   ],
   "source": [
    "ddd = [0.5, 0.6, 0.7]\n",
    "print(len(ddd))\n",
    "ccc = [111, 222, 333]\n",
    "print(ddd)\n",
    "for i in range(len(ddd)):\n",
    "    print(i)\n",
    "    print(ccc[i])\n",
    "    ccc[i] = 5\n",
    "\n",
    "print(ccc)"
   ]
  },
  {
   "cell_type": "code",
   "execution_count": null,
   "metadata": {},
   "outputs": [],
   "source": []
  }
 ],
 "metadata": {
  "kernelspec": {
   "display_name": "Python 3",
   "language": "python",
   "name": "python3"
  },
  "language_info": {
   "codemirror_mode": {
    "name": "ipython",
    "version": 3
   },
   "file_extension": ".py",
   "mimetype": "text/x-python",
   "name": "python",
   "nbconvert_exporter": "python",
   "pygments_lexer": "ipython3",
   "version": "3.7.3"
  }
 },
 "nbformat": 4,
 "nbformat_minor": 2
}
